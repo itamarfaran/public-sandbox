{
 "cells": [
  {
   "cell_type": "markdown",
   "id": "1635d1d3-99de-4b39-a61a-853e4e9527c5",
   "metadata": {},
   "source": [
    "# CRPS & Bayesian Regression"
   ]
  },
  {
   "cell_type": "markdown",
   "id": "54312f02-a6d4-4b9c-abab-3c85a136f85b",
   "metadata": {},
   "source": [
    "In this notebook, we will show a simple example of the usage of the CRPS, using a Bayesian Ridge Regression.\n",
    "\n",
    "The predictions are the μ and σ parameter's of the posterior-predictive distribution.\n",
    "\n",
    "We will show the usage of both the analytical CRPS for the normal distribution, and the non-parameteric CRPS, with simulations."
   ]
  },
  {
   "cell_type": "code",
   "execution_count": 1,
   "id": "c761f084-7df8-43de-a444-93dfd9944ac1",
   "metadata": {},
   "outputs": [],
   "source": [
    "import numpy as np\n",
    "from scipy import stats\n",
    "\n",
    "from sklearn.datasets import fetch_california_housing\n",
    "from sklearn.model_selection import train_test_split\n",
    "from sklearn.linear_model import BayesianRidge\n"
   ]
  },
  {
   "cell_type": "markdown",
   "id": "e9513d23-4d56-4027-ba37-2d1a1b3f5ec2",
   "metadata": {},
   "source": [
    "Here we implement both the NRG and PWM forms of the CRPS (Zamo & Naveau, 2017) and the analytical solution for the normal distribution (Taillardat, Zamo & Naveau, 2016)"
   ]
  },
  {
   "cell_type": "code",
   "execution_count": 2,
   "id": "ccde47ad-dd71-4722-9072-403e97814242",
   "metadata": {},
   "outputs": [],
   "source": [
    "# Adapted to numpy from pyro.ops.stats.crps_empirical\n",
    "# Copyright (c) 2017-2019 Uber Technologies, Inc.\n",
    "# SPDX-License-Identifier: Apache-2.0\n",
    "def crps_nrg(y_true, y_pred, sample_weight=None):\n",
    "    num_samples = y_pred.shape[0]\n",
    "    absolute_error = np.mean(np.abs(y_pred - y_true), axis=0)\n",
    "\n",
    "    y_pred = np.sort(y_pred, axis=0)\n",
    "    diff = y_pred[1:] - y_pred[:-1]\n",
    "    weight = np.arange(1, num_samples) * np.arange(num_samples - 1, 0, -1)\n",
    "    weight = np.expand_dims(weight, -1)\n",
    "\n",
    "    per_obs_crps = absolute_error - np.sum(diff * weight, axis=0) / num_samples**2\n",
    "    return np.average(per_obs_crps, weights=sample_weight)\n",
    "\n",
    "\n",
    "def crps_pwm(y_true, y_pred, sample_weight=None):\n",
    "    num_samples = y_pred.shape[0]\n",
    "    absolute_error = np.mean(np.abs(y_pred - y_true), axis=0)\n",
    "\n",
    "    y_pred = np.sort(y_pred, axis=0)\n",
    "    b0 = y_pred.mean(axis=0)\n",
    "    b1_values = y_pred * np.arange(num_samples).reshape((num_samples, 1))\n",
    "    b1 = b1_values.mean(axis=0) / num_samples\n",
    "\n",
    "    per_obs_crps = absolute_error + b0 - 2 * b1\n",
    "    return np.average(per_obs_crps, weights=sample_weight)\n",
    "\n",
    "\n",
    "def crps_gaussian(x, mu, sig, sample_weight=None):\n",
    "    sx = (x - mu) / sig\n",
    "    pdf = stats.norm.pdf(sx)\n",
    "    cdf = stats.norm.cdf(sx)\n",
    "    per_obs_crps = sig * (sx * (2 * cdf - 1) + 2 * pdf - 1. / np.sqrt(np.pi))\n",
    "    return np.average(per_obs_crps, weights=sample_weight)\n"
   ]
  },
  {
   "cell_type": "markdown",
   "id": "3bdb5686-d769-4a29-858c-5c9f60dae228",
   "metadata": {},
   "source": [
    "load the data, split to train-test, train and predict the test set and generate simulations."
   ]
  },
  {
   "cell_type": "code",
   "execution_count": 3,
   "id": "e3a32e25-aaa2-47bf-ab3f-af75ec30e643",
   "metadata": {},
   "outputs": [],
   "source": [
    "dataset = fetch_california_housing()\n",
    "x_train, x_test, y_train, y_test = train_test_split(\n",
    "    dataset.data, dataset.target, test_size=0.2, random_state=17\n",
    ")\n",
    "\n",
    "model = BayesianRidge()\n",
    "model.fit(x_train, y_train)\n",
    "pred_mean, pred_std = model.predict(x_test, return_std=True)\n",
    "\n",
    "# create simulation-predictions\n",
    "predictions = stats.multivariate_normal.rvs(pred_mean, np.diag(pred_std ** 2), 10_000, 17)\n"
   ]
  },
  {
   "cell_type": "code",
   "execution_count": 5,
   "id": "73522e08-921f-4c83-937f-194f01b13737",
   "metadata": {},
   "outputs": [
    {
     "name": "stdout",
     "output_type": "stream",
     "text": [
      "The CRPS with the PWM implementation is: 0.41025561010581335\n",
      "The CRPS with the NRG implementation is: 0.4100499323798249\n",
      "The CRPS with the analytical solution is: 0.41000374217408847\n"
     ]
    }
   ],
   "source": [
    "print(f'The CRPS with the PWM implementation is: {crps_pwm(y_test, predictions)}')\n",
    "\n",
    "print(f'The CRPS with the NRG implementation is: {crps_nrg(y_test, predictions)}')\n",
    "\n",
    "# in this simple case, we can use the analytic solution of CRPS for normal distribution:\n",
    "print(f'The CRPS with the analytical solution is: {crps_gaussian(y_test, pred_mean, pred_std)}')\n"
   ]
  }
 ],
 "metadata": {
  "kernelspec": {
   "display_name": "Python 3 (ipykernel)",
   "language": "python",
   "name": "python3"
  },
  "language_info": {
   "codemirror_mode": {
    "name": "ipython",
    "version": 3
   },
   "file_extension": ".py",
   "mimetype": "text/x-python",
   "name": "python",
   "nbconvert_exporter": "python",
   "pygments_lexer": "ipython3",
   "version": "3.9.12"
  }
 },
 "nbformat": 4,
 "nbformat_minor": 5
}
